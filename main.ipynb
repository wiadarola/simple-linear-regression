{
 "cells": [
  {
   "cell_type": "markdown",
   "metadata": {},
   "source": [
    "MSE for a linear function\n",
    "$$y=m*x+b$$\n",
    "$$Error = \\frac{1}{N}\\sum_{i=0}^{n}(y_{i} - \\hat{y}_{i})^{2}$$\n",
    "$$\\hat{y}_{i} = m*x_{i} + b$$"
   ]
  },
  {
   "cell_type": "markdown",
   "metadata": {},
   "source": [
    "Goal: Find the line resulting in the minimum of the error.\n",
    "\n",
    "Gradient of the error function provides the direction of steepest ascent.\n",
    "$$\\nabla J = \\begin{bmatrix}\n",
    "   \\frac{\\partial J}{\\partial m}\\\\\\\\\n",
    "   \\frac{\\partial J}{\\partial b}\n",
    "\\end{bmatrix}$$\n",
    "\n",
    "$$\\frac{\\partial J}{\\partial m}=\\frac{1}{N}\\sum_{i=0}^{n}2*(y_i-\\hat{y_i})*-x_i = -\\frac{2}{N}\\sum_{i=0}^{n}x_i(y_i-\\hat{y_i})$$\n",
    "\n",
    "$$\\frac{\\partial J}{\\partial b}=\\frac{1}{N}\\sum_{i=0}^{n}2*(y_i-\\hat{y_i})*-1 = -\\frac{2}{N}\\sum_{i=0}^{n}(y_i-\\hat{y_i})$$"
   ]
  },
  {
   "cell_type": "markdown",
   "metadata": {},
   "source": [
    "Gradient descent: Move a small step ($\\alpha$) in the opposite direction of the gradient to minimize the error function.\n",
    "\n",
    "$$m = m - \\alpha \\frac{\\partial J}{\\partial m}$$\n",
    "$$b = b - \\alpha \\frac{\\partial J}{\\partial b}$$\n",
    "\n"
   ]
  },
  {
   "cell_type": "code",
   "execution_count": 99,
   "metadata": {},
   "outputs": [],
   "source": [
    "import pandas as pd\n",
    "import numpy as np\n",
    "import matplotlib.pyplot as plt"
   ]
  },
  {
   "cell_type": "code",
   "execution_count": 100,
   "metadata": {},
   "outputs": [
    {
     "data": {
      "text/html": [
       "<div>\n",
       "<style scoped>\n",
       "    .dataframe tbody tr th:only-of-type {\n",
       "        vertical-align: middle;\n",
       "    }\n",
       "\n",
       "    .dataframe tbody tr th {\n",
       "        vertical-align: top;\n",
       "    }\n",
       "\n",
       "    .dataframe thead th {\n",
       "        text-align: right;\n",
       "    }\n",
       "</style>\n",
       "<table border=\"1\" class=\"dataframe\">\n",
       "  <thead>\n",
       "    <tr style=\"text-align: right;\">\n",
       "      <th></th>\n",
       "      <th>studytime</th>\n",
       "      <th>finalscore</th>\n",
       "    </tr>\n",
       "  </thead>\n",
       "  <tbody>\n",
       "    <tr>\n",
       "      <th>0</th>\n",
       "      <td>1.5</td>\n",
       "      <td>60</td>\n",
       "    </tr>\n",
       "    <tr>\n",
       "      <th>1</th>\n",
       "      <td>2.0</td>\n",
       "      <td>65</td>\n",
       "    </tr>\n",
       "    <tr>\n",
       "      <th>2</th>\n",
       "      <td>2.5</td>\n",
       "      <td>70</td>\n",
       "    </tr>\n",
       "    <tr>\n",
       "      <th>3</th>\n",
       "      <td>3.0</td>\n",
       "      <td>75</td>\n",
       "    </tr>\n",
       "    <tr>\n",
       "      <th>4</th>\n",
       "      <td>3.5</td>\n",
       "      <td>78</td>\n",
       "    </tr>\n",
       "  </tbody>\n",
       "</table>\n",
       "</div>"
      ],
      "text/plain": [
       "   studytime  finalscore\n",
       "0        1.5          60\n",
       "1        2.0          65\n",
       "2        2.5          70\n",
       "3        3.0          75\n",
       "4        3.5          78"
      ]
     },
     "execution_count": 100,
     "metadata": {},
     "output_type": "execute_result"
    }
   ],
   "source": [
    "data = pd.read_csv('dataset.csv')\n",
    "data.head()"
   ]
  },
  {
   "cell_type": "code",
   "execution_count": 101,
   "metadata": {},
   "outputs": [
    {
     "data": {
      "image/png": "[encoded data removed]",
      "text/plain": [
       "<Figure size 640x480 with 1 Axes>"
      ]
     },
     "metadata": {},
     "output_type": "display_data"
    }
   ],
   "source": [
    "plt.scatter(data.studytime, data.finalscore)\n",
    "plt.show()"
   ]
  },
  {
   "cell_type": "code",
   "execution_count": 102,
   "metadata": {},
   "outputs": [],
   "source": [
    "X = data.studytime.to_numpy()\n",
    "X = np.reshape(X, (X.size, 1))\n",
    "ones = np.ones((X.size,1))\n",
    "X = np.hstack((ones, X))\n",
    "\n",
    "w = np.array([[1], [1]])\n",
    "\n",
    "y = data.finalscore.to_numpy()\n",
    "y = np.reshape(y, (y.size, 1))"
   ]
  },
  {
   "cell_type": "code",
   "execution_count": 103,
   "metadata": {},
   "outputs": [
    {
     "name": "stdout",
     "output_type": "stream",
     "text": [
      "[[45.65204236]\n",
      " [ 8.61496081]]\n"
     ]
    }
   ],
   "source": [
    "iterations = 0\n",
    "alpha = 0.01\n",
    "while(iterations < 10000):\n",
    "    y_hat = X @ w\n",
    "    g_Jw = (1 / y.size) * X.T @ (X @ w - y)\n",
    "    w = w - alpha * g_Jw\n",
    "    iterations += 1\n",
    "print(w)"
   ]
  },
  {
   "cell_type": "code",
   "execution_count": 104,
   "metadata": {},
   "outputs": [
    {
     "name": "stdout",
     "output_type": "stream",
     "text": [
      "[[45.65249089]\n",
      " [ 8.61482382]]\n"
     ]
    }
   ],
   "source": [
    "w_best = np.linalg.pinv(X).dot(y)\n",
    "print(w_best)"
   ]
  },
  {
   "cell_type": "code",
   "execution_count": 105,
   "metadata": {},
   "outputs": [
    {
     "name": "stdout",
     "output_type": "stream",
     "text": [
      "R^2 =    0.96\n"
     ]
    }
   ],
   "source": [
    "y_hat = X @ w\n",
    "y_m = np.mean(y)\n",
    "\n",
    "RSS = np.sum((y - y_hat) ** 2)\n",
    "TSS = np.sum((y - y_m) ** 2)\n",
    "R_sqrd = 1 - RSS/TSS\n",
    "\n",
    "print(\"R^2 = {0:7.2f}\".format(R_sqrd))"
   ]
  },
  {
   "cell_type": "code",
   "execution_count": 106,
   "metadata": {},
   "outputs": [
    {
     "name": "stdout",
     "output_type": "stream",
     "text": [
      "R^2 =    0.96\n"
     ]
    }
   ],
   "source": [
    "y_hat = X @ w_best\n",
    "y_m = np.mean(y)\n",
    "\n",
    "RSS = np.sum((y - y_hat) ** 2)\n",
    "TSS = np.sum((y - y_m) ** 2)\n",
    "R_sqrd = 1 - RSS/TSS\n",
    "\n",
    "print(\"R^2 = {0:7.2f}\".format(R_sqrd))"
   ]
  }
 ],
 "metadata": {
  "kernelspec": {
   "display_name": "Python 3",
   "language": "python",
   "name": "python3"
  },
  "language_info": {
   "codemirror_mode": {
    "name": "ipython",
    "version": 3
   },
   "file_extension": ".py",
   "mimetype": "text/x-python",
   "name": "python",
   "nbconvert_exporter": "python",
   "pygments_lexer": "ipython3",
   "version": "3.11.1"
  }
 },
 "nbformat": 4,
 "nbformat_minor": 2
}
